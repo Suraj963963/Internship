{
 "cells": [
  {
   "cell_type": "code",
   "execution_count": 9,
   "id": "992fbea8",
   "metadata": {
    "scrolled": true
   },
   "outputs": [
    {
     "name": "stdout",
     "output_type": "stream",
     "text": [
      "['Pope Francis leaves hospital; ‘Still alive,’ he quips', 'April is usually the best month for the Dow. Here’s how much it typically goes up and why', 'Elon Musk seeks to end $258 billion Dogecoin lawsuit', 'How TikTok parent company spent over $13 million on a stalled lobbying campaign', 'Huawei reports biggest profit decline ever as U.S. sanctions, pandemic controls hit Chinese giant', 'Stocks close higher Friday, Nasdaq notches best quarter since 2020', 'Stocks could be shaky in the week ahead as sigh-of-relief rally runs its course', 'Sen. Elizabeth Warren says she wants to make banking boring again', 'Google founder, former Disney exec to get subpoenas in JPMorgan Epstein lawsuit', 'Investor Dan Niles likes these tech stocks heading into the second quarter', 'Trump faces about 30 criminal counts for document fraud in New York indictment', \"Kyiv says Russian UN Security Council presidency is a 'symbolic blow'\", 'Dumb phones are on the rise in the U.S. as Gen Z looks to limit screen time', 'Britain to join Indo-Pacific trade bloc in biggest trade deal since Brexit', 'UAE leader breaks with tradition, appoints son as crown prince', \"China's chip industry will be 'reborn' under U.S. sanctions, Huawei says, claiming breakthrough\", \"Under Armour's new partnership with Steph Curry will last beyond the NBA superstar's playing career\", 'Key U.S. Fed inflation gauge rose 0.3% in February, less than expected', 'Euro zone price rises cool significantly in March, but core inflation hits record high', \"Investors 'are pretty afraid right now,' financial psychologist says. These 2 steps can help\"]\n"
     ]
    }
   ],
   "source": [
    "import requests\n",
    "from bs4 import BeautifulSoup\n",
    "import pandas as pd\n",
    "import datetime\n",
    "url = 'https://www.cnbc.com/world/?region=world'\n",
    "response = requests.get(url)\n",
    "\n",
    "soup = BeautifulSoup(response.text, 'html.parser')\n",
    "\n",
    "headlines = []\n",
    "for headline in soup.find_all('div',class_=\"RiverHeadline-headline RiverHeadline-hasThumbnail\"):\n",
    "    headlines.append(headline.text.strip())\n",
    "\n",
    "print(headlines)"
   ]
  },
  {
   "cell_type": "code",
   "execution_count": 11,
   "id": "86ba6db7",
   "metadata": {},
   "outputs": [
    {
     "data": {
      "text/plain": [
       "['45 Min Ago',\n",
       " '2 Hours Ago',\n",
       " '2 Hours Ago',\n",
       " '2 Hours Ago',\n",
       " '2 Hours Ago',\n",
       " '2 Hours Ago',\n",
       " '3 Hours Ago',\n",
       " '4 Hours Ago',\n",
       " '4 Hours Ago',\n",
       " '4 Hours Ago',\n",
       " '4 Hours Ago',\n",
       " '16 Hours Ago',\n",
       " '19 Hours Ago',\n",
       " '19 Hours Ago',\n",
       " '20 Hours Ago',\n",
       " '20 Hours Ago',\n",
       " '20 Hours Ago',\n",
       " '20 Hours Ago',\n",
       " '21 Hours Ago',\n",
       " '21 Hours Ago',\n",
       " '21 Hours Ago',\n",
       " '22 Hours Ago',\n",
       " '22 Hours Ago',\n",
       " '22 Hours Ago',\n",
       " '22 Hours Ago',\n",
       " '22 Hours Ago',\n",
       " '22 Hours Ago',\n",
       " '22 Hours Ago',\n",
       " '23 Hours Ago',\n",
       " '23 Hours Ago']"
      ]
     },
     "execution_count": 11,
     "metadata": {},
     "output_type": "execute_result"
    }
   ],
   "source": [
    "time_list = []\n",
    "for i in soup.find_all('span',class_=\"LatestNews-wrapper\"):\n",
    "    time_list.append(i.string)\n",
    "    \n",
    "time_list"
   ]
  },
  {
   "cell_type": "code",
   "execution_count": null,
   "id": "601f1600",
   "metadata": {},
   "outputs": [],
   "source": []
  }
 ],
 "metadata": {
  "kernelspec": {
   "display_name": "Python 3 (ipykernel)",
   "language": "python",
   "name": "python3"
  },
  "language_info": {
   "codemirror_mode": {
    "name": "ipython",
    "version": 3
   },
   "file_extension": ".py",
   "mimetype": "text/x-python",
   "name": "python",
   "nbconvert_exporter": "python",
   "pygments_lexer": "ipython3",
   "version": "3.9.12"
  }
 },
 "nbformat": 4,
 "nbformat_minor": 5
}
