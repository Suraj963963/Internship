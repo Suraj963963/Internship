{
 "cells": [
  {
   "cell_type": "code",
   "execution_count": 1,
   "id": "37bad667",
   "metadata": {},
   "outputs": [
    {
     "name": "stdout",
     "output_type": "stream",
     "text": [
      "                                            President   Term of Office\n",
      "0   Shri Ram Nath Kovind (birth - 1945)\\nTerm of O...  Term of Office:\n",
      "1   Shri Pranab Mukherjee (1935-2020)\\nTerm of Off...  Term of Office:\n",
      "2   Smt Pratibha Devisingh Patil (birth - 1934)\\nT...  Term of Office:\n",
      "3   DR. A.P.J. Abdul Kalam (1931-2015)\\nTerm of Of...  Term of Office:\n",
      "4   Shri K. R. Narayanan (1920 - 2005)\\nTerm of Of...  Term of Office:\n",
      "5   Dr Shankar Dayal Sharma (1918-1999)\\nTerm of O...  Term of Office:\n",
      "6   Shri R Venkataraman (1910-2009)\\nTerm of Offic...  Term of Office:\n",
      "7   Giani Zail Singh (1916-1994)\\nTerm of Office: ...  Term of Office:\n",
      "8   Shri Neelam Sanjiva Reddy (1913-1996)\\nTerm of...  Term of Office:\n",
      "9   Dr. Fakhruddin Ali Ahmed (1905-1977)\\nTerm of ...  Term of Office:\n",
      "10  Shri Varahagiri Venkata Giri (1894-1980)\\nTerm...  Term of Office:\n",
      "11  Dr. Zakir Husain (1897-1969)\\nTerm of Office: ...  Term of Office:\n",
      "12  Dr. Sarvepalli Radhakrishnan (1888-1975)\\nTerm...  Term of Office:\n",
      "13  Dr. Rajendra Prasad (1884-1963) \\nTerm of Offi...  Term of Office:\n"
     ]
    }
   ],
   "source": [
    "import requests\n",
    "from bs4 import BeautifulSoup\n",
    "import pandas as pd\n",
    "\n",
    "url = 'https://presidentofindia.nic.in/former-presidents.htm'\n",
    "\n",
    "response = requests.get(url)\n",
    "\n",
    "soup = BeautifulSoup(response.content, 'html.parser')\n",
    "\n",
    "# Find all the former presidents' names on the webpage\n",
    "names = soup.select('div.presidentListing')\n",
    "presidents = [name.text.strip() for name in names]\n",
    "\n",
    "# Find all the former presidents' terms on the webpage\n",
    "terms = soup.select('span.terms')\n",
    "terms_of_office = [term.text.strip() for term in terms]\n",
    "\n",
    "# Create a Pandas DataFrame to store the data\n",
    "df = pd.DataFrame({'President': presidents, 'Term of Office': terms_of_office})\n",
    "\n",
    "# Print the DataFrame\n",
    "print(df)\n"
   ]
  },
  {
   "cell_type": "code",
   "execution_count": null,
   "id": "103372a6",
   "metadata": {},
   "outputs": [],
   "source": []
  }
 ],
 "metadata": {
  "kernelspec": {
   "display_name": "Python 3 (ipykernel)",
   "language": "python",
   "name": "python3"
  },
  "language_info": {
   "codemirror_mode": {
    "name": "ipython",
    "version": 3
   },
   "file_extension": ".py",
   "mimetype": "text/x-python",
   "name": "python",
   "nbconvert_exporter": "python",
   "pygments_lexer": "ipython3",
   "version": "3.9.12"
  }
 },
 "nbformat": 4,
 "nbformat_minor": 5
}
