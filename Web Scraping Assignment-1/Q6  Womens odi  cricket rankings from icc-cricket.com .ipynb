{
 "cells": [
  {
   "cell_type": "code",
   "execution_count": 1,
   "id": "4d3445e5",
   "metadata": {},
   "outputs": [],
   "source": [
    "from bs4 import BeautifulSoup\n",
    "import urllib.request\n",
    "import pandas as pd\n",
    "import requests\n"
   ]
  },
  {
   "cell_type": "markdown",
   "id": "44dbcba2",
   "metadata": {},
   "source": [
    "### i) Top 10 ODI teams in women’s cricket along with the records for matches, points and rating."
   ]
  },
  {
   "cell_type": "code",
   "execution_count": 2,
   "id": "d782a28a",
   "metadata": {},
   "outputs": [],
   "source": [
    "url = 'https://www.icc-cricket.com/rankings/womens/team-rankings/odi'"
   ]
  },
  {
   "cell_type": "code",
   "execution_count": 3,
   "id": "1d6a6555",
   "metadata": {},
   "outputs": [
    {
     "name": "stdout",
     "output_type": "stream",
     "text": [
      "200 ---> https://www.icc-cricket.com/rankings/womens/team-rankings/odi\n",
      "\n",
      "\n"
     ]
    }
   ],
   "source": [
    "response = requests.get(url)\n",
    "print(response.status_code, '--->',url)\n",
    "print('\\n')\n",
    "SOUP= BeautifulSoup(response.content, 'lxml')"
   ]
  },
  {
   "cell_type": "code",
   "execution_count": 4,
   "id": "8e922c64",
   "metadata": {},
   "outputs": [],
   "source": [
    "Team=[]\n",
    "Matches=[]\n",
    "Points=[]\n",
    "Rating=[]"
   ]
  },
  {
   "cell_type": "code",
   "execution_count": 5,
   "id": "edf516f1",
   "metadata": {},
   "outputs": [],
   "source": [
    "Country = SOUP.find_all('span',class_=\"u-hide-phablet\")\n",
    "for i in Country:\n",
    "    Team.append(i.get_text().replace(\"\\n\",\"\"))\n",
    "    Team=Team[0:10]"
   ]
  },
  {
   "cell_type": "code",
   "execution_count": 7,
   "id": "23dcf152",
   "metadata": {},
   "outputs": [],
   "source": [
    "match=SOUP.find_all('td',class_='rankings-block__banner--matches')\n",
    "matchs=SOUP.find_all('td',class_='table-body__cell u-center-text')\n",
    "mtc = match + matchs\n",
    "for i in  mtc:\n",
    "    Matches.append(i.text)\n",
    "    Matches=Matches[0:10]"
   ]
  },
  {
   "cell_type": "code",
   "execution_count": 8,
   "id": "a7c9dd3d",
   "metadata": {},
   "outputs": [],
   "source": [
    "pt=SOUP.find_all('td',class_=\"rankings-block__banner--points\")\n",
    "pts= SOUP.find_all('td',class_ =\"table-body__cell u-center-text\")\n",
    "Point= pt + pts\n",
    "for i in Point:\n",
    "    Points.append(i.get_text().replace(\"\\n\",\"\"))\n",
    "    Points=Points[0:10]"
   ]
  },
  {
   "cell_type": "code",
   "execution_count": 9,
   "id": "5ca77494",
   "metadata": {},
   "outputs": [],
   "source": [
    "rat=SOUP.find_all('td',class_=\"rankings-block__banner--rating\")\n",
    "\n",
    "rating = SOUP.find_all('td',class_=\"table-body__cell u-text-right rating\")\n",
    "RATING=rat + rating"
   ]
  },
  {
   "cell_type": "code",
   "execution_count": 10,
   "id": "70c409fe",
   "metadata": {},
   "outputs": [
    {
     "data": {
      "text/plain": [
       "['                            172                            ',\n",
       " '119',\n",
       " '119',\n",
       " '104',\n",
       " '102',\n",
       " '94',\n",
       " '76',\n",
       " '72',\n",
       " '62',\n",
       " '44']"
      ]
     },
     "execution_count": 10,
     "metadata": {},
     "output_type": "execute_result"
    }
   ],
   "source": [
    "for i in RATING:\n",
    "    Rating.append(i.get_text().replace(\"\\n\",\"\"))\n",
    "    Rating=Rating[0:10]\n",
    "Rating"
   ]
  },
  {
   "cell_type": "code",
   "execution_count": 11,
   "id": "ab302a25",
   "metadata": {},
   "outputs": [
    {
     "name": "stdout",
     "output_type": "stream",
     "text": [
      "\u001b[1mICC ODI WOMENS RANKING\u001b[0m\n"
     ]
    },
    {
     "data": {
      "text/html": [
       "<div>\n",
       "<style scoped>\n",
       "    .dataframe tbody tr th:only-of-type {\n",
       "        vertical-align: middle;\n",
       "    }\n",
       "\n",
       "    .dataframe tbody tr th {\n",
       "        vertical-align: top;\n",
       "    }\n",
       "\n",
       "    .dataframe thead th {\n",
       "        text-align: right;\n",
       "    }\n",
       "</style>\n",
       "<table border=\"1\" class=\"dataframe\">\n",
       "  <thead>\n",
       "    <tr style=\"text-align: right;\">\n",
       "      <th></th>\n",
       "      <th>Country</th>\n",
       "      <th>Matches</th>\n",
       "      <th>Rating</th>\n",
       "      <th>Points</th>\n",
       "    </tr>\n",
       "  </thead>\n",
       "  <tbody>\n",
       "    <tr>\n",
       "      <th>0</th>\n",
       "      <td>Australia</td>\n",
       "      <td>21</td>\n",
       "      <td>172               ...</td>\n",
       "      <td>3,603</td>\n",
       "    </tr>\n",
       "    <tr>\n",
       "      <th>1</th>\n",
       "      <td>England</td>\n",
       "      <td>28</td>\n",
       "      <td>119</td>\n",
       "      <td>28</td>\n",
       "    </tr>\n",
       "    <tr>\n",
       "      <th>2</th>\n",
       "      <td>South Africa</td>\n",
       "      <td>3,342</td>\n",
       "      <td>119</td>\n",
       "      <td>3,342</td>\n",
       "    </tr>\n",
       "    <tr>\n",
       "      <th>3</th>\n",
       "      <td>India</td>\n",
       "      <td>26</td>\n",
       "      <td>104</td>\n",
       "      <td>26</td>\n",
       "    </tr>\n",
       "    <tr>\n",
       "      <th>4</th>\n",
       "      <td>New Zealand</td>\n",
       "      <td>3,098</td>\n",
       "      <td>102</td>\n",
       "      <td>3,098</td>\n",
       "    </tr>\n",
       "    <tr>\n",
       "      <th>5</th>\n",
       "      <td>West Indies</td>\n",
       "      <td>27</td>\n",
       "      <td>94</td>\n",
       "      <td>27</td>\n",
       "    </tr>\n",
       "    <tr>\n",
       "      <th>6</th>\n",
       "      <td>Bangladesh</td>\n",
       "      <td>2,820</td>\n",
       "      <td>76</td>\n",
       "      <td>2,820</td>\n",
       "    </tr>\n",
       "    <tr>\n",
       "      <th>7</th>\n",
       "      <td>Thailand</td>\n",
       "      <td>25</td>\n",
       "      <td>72</td>\n",
       "      <td>25</td>\n",
       "    </tr>\n",
       "    <tr>\n",
       "      <th>8</th>\n",
       "      <td>Pakistan</td>\n",
       "      <td>2,553</td>\n",
       "      <td>62</td>\n",
       "      <td>2,553</td>\n",
       "    </tr>\n",
       "    <tr>\n",
       "      <th>9</th>\n",
       "      <td>Sri Lanka</td>\n",
       "      <td>27</td>\n",
       "      <td>44</td>\n",
       "      <td>27</td>\n",
       "    </tr>\n",
       "  </tbody>\n",
       "</table>\n",
       "</div>"
      ],
      "text/plain": [
       "        Country Matches                                             Rating  \\\n",
       "0     Australia      21                              172               ...   \n",
       "1       England      28                                                119   \n",
       "2  South Africa   3,342                                                119   \n",
       "3         India      26                                                104   \n",
       "4   New Zealand   3,098                                                102   \n",
       "5   West Indies      27                                                 94   \n",
       "6    Bangladesh   2,820                                                 76   \n",
       "7      Thailand      25                                                 72   \n",
       "8      Pakistan   2,553                                                 62   \n",
       "9     Sri Lanka      27                                                 44   \n",
       "\n",
       "  Points  \n",
       "0  3,603  \n",
       "1     28  \n",
       "2  3,342  \n",
       "3     26  \n",
       "4  3,098  \n",
       "5     27  \n",
       "6  2,820  \n",
       "7     25  \n",
       "8  2,553  \n",
       "9     27  "
      ]
     },
     "execution_count": 11,
     "metadata": {},
     "output_type": "execute_result"
    }
   ],
   "source": [
    "ODI=pd.DataFrame({})\n",
    "ODI['Country']=Team\n",
    "ODI['Matches']=Matches\n",
    "ODI['Rating']=Rating\n",
    "ODI['Points']=Points\n",
    "\n",
    "print('\\033[1m'+'ICC ODI WOMENS RANKING'+'\\033[0m') # Print Title in bold case\n",
    "ODI"
   ]
  },
  {
   "cell_type": "markdown",
   "id": "2eda821f",
   "metadata": {},
   "source": [
    "## ii) Top 10 women’s ODI players along with the records of their team and rating."
   ]
  },
  {
   "cell_type": "code",
   "execution_count": 12,
   "id": "6648d9fc",
   "metadata": {},
   "outputs": [],
   "source": [
    "url = 'https://www.icc-cricket.com/rankings/womens/player-rankings/odi/batting'\n",
    "headers = {\n",
    "    'User-Agent': 'Mozilla/5.0 (Windows NT 6.1; Win64; x64) AppleWebKit/537.36 (KHTML, like Gecko) Chrome/87.0.4280.66 Safari/537.36'\n",
    "}"
   ]
  },
  {
   "cell_type": "code",
   "execution_count": 13,
   "id": "1a4b9e42",
   "metadata": {},
   "outputs": [
    {
     "name": "stdout",
     "output_type": "stream",
     "text": [
      "200 ---> https://www.icc-cricket.com/rankings/womens/player-rankings/odi/batting\n",
      "\n",
      "\n",
      "\n"
     ]
    }
   ],
   "source": [
    "response = requests.get(url)\n",
    "print(response.status_code, '--->',url)\n",
    "print('\\n\\n')\n",
    "soup= BeautifulSoup(response.text, 'lxml')\n",
    "Position =[]\n",
    "Player =[]\n",
    "Country =[]\n",
    "Rating =[]"
   ]
  },
  {
   "cell_type": "code",
   "execution_count": 14,
   "id": "7c0f3818",
   "metadata": {},
   "outputs": [],
   "source": [
    "block_1= soup.find('tr', attrs={'class':'rankings-block__banner'})\n",
    "\n",
    "Position.append(block_1.find('td',class_='rankings-block__position').text)\n",
    "Player.append(block_1.find('div', class_=\"rankings-block__banner--name-large\").text)\n",
    "Country.append(block_1.find('span', class_='rankings-block__banner--nation').text)\n",
    "Rating.append(block_1.find('div', class_=\"rankings-block__banner--rating\").text)"
   ]
  },
  {
   "cell_type": "code",
   "execution_count": 15,
   "id": "85b54b88",
   "metadata": {},
   "outputs": [],
   "source": [
    "table_rows =soup.find_all('tr', attrs={'class':'table-body'})\n",
    "for row in table_rows[:10]:\n",
    "    Position.append(row.find('td', class_='table-body__cell table-body__cell--position u-text-right').text.replace('\\n',''))\n",
    "    Player.append(row.find('a').text)\n",
    "    Country.append(row.find('span', class_='table-body__logo-text').text)\n",
    "    Rating.append(row.find('td', class_='table-body__cell rating').text)"
   ]
  },
  {
   "cell_type": "code",
   "execution_count": 16,
   "id": "345a7b9e",
   "metadata": {},
   "outputs": [
    {
     "name": "stdout",
     "output_type": "stream",
     "text": [
      "\u001b[1mICC ODI WOMENS BATTING RANKING\u001b[0m\n"
     ]
    },
    {
     "data": {
      "text/html": [
       "<div>\n",
       "<style scoped>\n",
       "    .dataframe tbody tr th:only-of-type {\n",
       "        vertical-align: middle;\n",
       "    }\n",
       "\n",
       "    .dataframe tbody tr th {\n",
       "        vertical-align: top;\n",
       "    }\n",
       "\n",
       "    .dataframe thead th {\n",
       "        text-align: right;\n",
       "    }\n",
       "</style>\n",
       "<table border=\"1\" class=\"dataframe\">\n",
       "  <thead>\n",
       "    <tr style=\"text-align: right;\">\n",
       "      <th></th>\n",
       "      <th>Ranking</th>\n",
       "      <th>Player_Name</th>\n",
       "      <th>Team</th>\n",
       "      <th>Rating</th>\n",
       "    </tr>\n",
       "  </thead>\n",
       "  <tbody>\n",
       "    <tr>\n",
       "      <th>0</th>\n",
       "      <td>\\n\\n\\n                            1\\n         ...</td>\n",
       "      <td>Alyssa Healy</td>\n",
       "      <td></td>\n",
       "      <td>762</td>\n",
       "    </tr>\n",
       "    <tr>\n",
       "      <th>1</th>\n",
       "      <td>2         ...</td>\n",
       "      <td>Beth Mooney</td>\n",
       "      <td>AUS</td>\n",
       "      <td>754</td>\n",
       "    </tr>\n",
       "    <tr>\n",
       "      <th>2</th>\n",
       "      <td>3         ...</td>\n",
       "      <td>Laura Wolvaardt</td>\n",
       "      <td>SA</td>\n",
       "      <td>732</td>\n",
       "    </tr>\n",
       "    <tr>\n",
       "      <th>3</th>\n",
       "      <td>4         ...</td>\n",
       "      <td>Natalie Sciver</td>\n",
       "      <td>ENG</td>\n",
       "      <td>731</td>\n",
       "    </tr>\n",
       "    <tr>\n",
       "      <th>4</th>\n",
       "      <td>5         ...</td>\n",
       "      <td>Meg Lanning</td>\n",
       "      <td>AUS</td>\n",
       "      <td>717</td>\n",
       "    </tr>\n",
       "    <tr>\n",
       "      <th>5</th>\n",
       "      <td>6         ...</td>\n",
       "      <td>Harmanpreet Kaur</td>\n",
       "      <td>IND</td>\n",
       "      <td>716</td>\n",
       "    </tr>\n",
       "    <tr>\n",
       "      <th>6</th>\n",
       "      <td>7         ...</td>\n",
       "      <td>Smriti Mandhana</td>\n",
       "      <td>IND</td>\n",
       "      <td>714</td>\n",
       "    </tr>\n",
       "    <tr>\n",
       "      <th>7</th>\n",
       "      <td>8         ...</td>\n",
       "      <td>Rachael Haynes</td>\n",
       "      <td>AUS</td>\n",
       "      <td>680</td>\n",
       "    </tr>\n",
       "    <tr>\n",
       "      <th>8</th>\n",
       "      <td>9         ...</td>\n",
       "      <td>Chamari Athapaththu</td>\n",
       "      <td>SL</td>\n",
       "      <td>655</td>\n",
       "    </tr>\n",
       "    <tr>\n",
       "      <th>9</th>\n",
       "      <td>10        ...</td>\n",
       "      <td>Amy Satterthwaite</td>\n",
       "      <td>NZ</td>\n",
       "      <td>641</td>\n",
       "    </tr>\n",
       "    <tr>\n",
       "      <th>10</th>\n",
       "      <td>11        ...</td>\n",
       "      <td>Ellyse Perry</td>\n",
       "      <td>AUS</td>\n",
       "      <td>626</td>\n",
       "    </tr>\n",
       "  </tbody>\n",
       "</table>\n",
       "</div>"
      ],
      "text/plain": [
       "                                              Ranking          Player_Name  \\\n",
       "0   \\n\\n\\n                            1\\n         ...         Alyssa Healy   \n",
       "1                                       2         ...          Beth Mooney   \n",
       "2                                       3         ...      Laura Wolvaardt   \n",
       "3                                       4         ...       Natalie Sciver   \n",
       "4                                       5         ...          Meg Lanning   \n",
       "5                                       6         ...     Harmanpreet Kaur   \n",
       "6                                       7         ...      Smriti Mandhana   \n",
       "7                                       8         ...       Rachael Haynes   \n",
       "8                                       9         ...  Chamari Athapaththu   \n",
       "9                                       10        ...    Amy Satterthwaite   \n",
       "10                                      11        ...         Ellyse Perry   \n",
       "\n",
       "   Team Rating  \n",
       "0          762  \n",
       "1   AUS    754  \n",
       "2    SA    732  \n",
       "3   ENG    731  \n",
       "4   AUS    717  \n",
       "5   IND    716  \n",
       "6   IND    714  \n",
       "7   AUS    680  \n",
       "8    SL    655  \n",
       "9    NZ    641  \n",
       "10  AUS    626  "
      ]
     },
     "execution_count": 16,
     "metadata": {},
     "output_type": "execute_result"
    }
   ],
   "source": [
    "ODI_Batmans=pd.DataFrame({'Ranking':Position,'Player_Name':Player, 'Team':Country, 'Rating':Rating})\n",
    "\n",
    "print('\\033[1m'+'ICC ODI WOMENS BATTING RANKING'+'\\033[0m') # Print Title in bold case\n",
    "ODI_Batmans"
   ]
  },
  {
   "cell_type": "markdown",
   "id": "6496bf85",
   "metadata": {},
   "source": [
    "### iii) Top 10 women’s ODI bowler along with the records of their team and rating."
   ]
  },
  {
   "cell_type": "code",
   "execution_count": 17,
   "id": "8a69a95f",
   "metadata": {},
   "outputs": [],
   "source": [
    "url = 'https://www.icc-cricket.com/rankings/womens/player-rankings/odi/bowling'\n",
    "headers = {\n",
    "    'User-Agent': 'Mozilla/5.0 (Windows NT 6.1; Win64; x64) AppleWebKit/537.36 (KHTML, like Gecko) Chrome/87.0.4280.66 Safari/537.36'\n",
    "}"
   ]
  },
  {
   "cell_type": "code",
   "execution_count": 18,
   "id": "49f538b6",
   "metadata": {},
   "outputs": [
    {
     "name": "stdout",
     "output_type": "stream",
     "text": [
      "200 ---> https://www.icc-cricket.com/rankings/womens/player-rankings/odi/bowling\n",
      "\n",
      "\n",
      "\n"
     ]
    }
   ],
   "source": [
    "response = requests.get(url)\n",
    "print(response.status_code, '--->',url)\n",
    "print('\\n\\n')\n",
    "soup= BeautifulSoup(response.text, 'html.parser')\n",
    "Position =[]\n",
    "Player =[]\n",
    "Country =[]\n",
    "Rating =[]"
   ]
  },
  {
   "cell_type": "code",
   "execution_count": 19,
   "id": "ca1ac729",
   "metadata": {},
   "outputs": [],
   "source": [
    "block_1= soup.find('tr', attrs={'class':'rankings-block__banner'})\n",
    "\n",
    "Position.append(block_1.find('td',class_='rankings-block__position').text)\n",
    "Player.append(block_1.find('div', class_=\"rankings-block__banner--name-large\").text)\n",
    "Country.append(block_1.find('span', class_='rankings-block__banner--nation').text)\n",
    "Rating.append(block_1.find('div', class_=\"rankings-block__banner--rating\").text)\n"
   ]
  },
  {
   "cell_type": "code",
   "execution_count": 20,
   "id": "1427659c",
   "metadata": {},
   "outputs": [],
   "source": [
    "table_rows =soup.find_all('tr', attrs={'class':'table-body'})"
   ]
  },
  {
   "cell_type": "code",
   "execution_count": 21,
   "id": "30702f7d",
   "metadata": {},
   "outputs": [],
   "source": [
    "for row in table_rows[:10]:\n",
    "    Position.append(row.find('td', class_='table-body__cell table-body__cell--position u-text-right').text.replace('\\n',''))\n",
    "    Player.append(row.find('a').text)\n",
    "    Country.append(row.find('span', class_='table-body__logo-text').text)\n",
    "    Rating.append(row.find('td', class_='table-body__cell rating').text)"
   ]
  },
  {
   "cell_type": "code",
   "execution_count": 22,
   "id": "1ad6eb5f",
   "metadata": {},
   "outputs": [
    {
     "name": "stdout",
     "output_type": "stream",
     "text": [
      "\u001b[1mICC ODI WOMENS BOWLING RANKING\u001b[0m\n"
     ]
    },
    {
     "data": {
      "text/html": [
       "<div>\n",
       "<style scoped>\n",
       "    .dataframe tbody tr th:only-of-type {\n",
       "        vertical-align: middle;\n",
       "    }\n",
       "\n",
       "    .dataframe tbody tr th {\n",
       "        vertical-align: top;\n",
       "    }\n",
       "\n",
       "    .dataframe thead th {\n",
       "        text-align: right;\n",
       "    }\n",
       "</style>\n",
       "<table border=\"1\" class=\"dataframe\">\n",
       "  <thead>\n",
       "    <tr style=\"text-align: right;\">\n",
       "      <th></th>\n",
       "      <th>Ranking</th>\n",
       "      <th>Player_Name</th>\n",
       "      <th>Team</th>\n",
       "      <th>Rating</th>\n",
       "    </tr>\n",
       "  </thead>\n",
       "  <tbody>\n",
       "    <tr>\n",
       "      <th>0</th>\n",
       "      <td>\\n\\n\\n                            1\\n         ...</td>\n",
       "      <td>Sophie Ecclestone</td>\n",
       "      <td></td>\n",
       "      <td>751</td>\n",
       "    </tr>\n",
       "    <tr>\n",
       "      <th>1</th>\n",
       "      <td>2         ...</td>\n",
       "      <td>Jess Jonassen</td>\n",
       "      <td>AUS</td>\n",
       "      <td>723</td>\n",
       "    </tr>\n",
       "    <tr>\n",
       "      <th>2</th>\n",
       "      <td>3         ...</td>\n",
       "      <td>Shabnim Ismail</td>\n",
       "      <td>SA</td>\n",
       "      <td>722</td>\n",
       "    </tr>\n",
       "    <tr>\n",
       "      <th>3</th>\n",
       "      <td>4         ...</td>\n",
       "      <td>Megan Schutt</td>\n",
       "      <td>AUS</td>\n",
       "      <td>704</td>\n",
       "    </tr>\n",
       "    <tr>\n",
       "      <th>4</th>\n",
       "      <td>5         ...</td>\n",
       "      <td>Jhulan Goswami</td>\n",
       "      <td>IND</td>\n",
       "      <td>698</td>\n",
       "    </tr>\n",
       "    <tr>\n",
       "      <th>5</th>\n",
       "      <td>6         ...</td>\n",
       "      <td>Hayley Matthews</td>\n",
       "      <td>WI</td>\n",
       "      <td>660</td>\n",
       "    </tr>\n",
       "    <tr>\n",
       "      <th>6</th>\n",
       "      <td>7         ...</td>\n",
       "      <td>Kate Cross</td>\n",
       "      <td>ENG</td>\n",
       "      <td>655</td>\n",
       "    </tr>\n",
       "    <tr>\n",
       "      <th>7</th>\n",
       "      <td>8         ...</td>\n",
       "      <td>Ayabonga Khaka</td>\n",
       "      <td>SA</td>\n",
       "      <td>634</td>\n",
       "    </tr>\n",
       "    <tr>\n",
       "      <th>8</th>\n",
       "      <td>9         ...</td>\n",
       "      <td>Rajeshwari Gayakwad</td>\n",
       "      <td>IND</td>\n",
       "      <td>617</td>\n",
       "    </tr>\n",
       "    <tr>\n",
       "      <th>9</th>\n",
       "      <td>10        ...</td>\n",
       "      <td>Marizanne Kapp</td>\n",
       "      <td>SA</td>\n",
       "      <td>598</td>\n",
       "    </tr>\n",
       "    <tr>\n",
       "      <th>10</th>\n",
       "      <td>11        ...</td>\n",
       "      <td>Deepti Sharma</td>\n",
       "      <td>IND</td>\n",
       "      <td>589</td>\n",
       "    </tr>\n",
       "  </tbody>\n",
       "</table>\n",
       "</div>"
      ],
      "text/plain": [
       "                                              Ranking          Player_Name  \\\n",
       "0   \\n\\n\\n                            1\\n         ...    Sophie Ecclestone   \n",
       "1                                       2         ...        Jess Jonassen   \n",
       "2                                       3         ...       Shabnim Ismail   \n",
       "3                                       4         ...         Megan Schutt   \n",
       "4                                       5         ...       Jhulan Goswami   \n",
       "5                                       6         ...      Hayley Matthews   \n",
       "6                                       7         ...           Kate Cross   \n",
       "7                                       8         ...       Ayabonga Khaka   \n",
       "8                                       9         ...  Rajeshwari Gayakwad   \n",
       "9                                       10        ...       Marizanne Kapp   \n",
       "10                                      11        ...        Deepti Sharma   \n",
       "\n",
       "   Team Rating  \n",
       "0          751  \n",
       "1   AUS    723  \n",
       "2    SA    722  \n",
       "3   AUS    704  \n",
       "4   IND    698  \n",
       "5    WI    660  \n",
       "6   ENG    655  \n",
       "7    SA    634  \n",
       "8   IND    617  \n",
       "9    SA    598  \n",
       "10  IND    589  "
      ]
     },
     "execution_count": 22,
     "metadata": {},
     "output_type": "execute_result"
    }
   ],
   "source": [
    "ODI_Bowling=pd.DataFrame({'Ranking':Position,'Player_Name':Player, 'Team':Country, 'Rating':Rating})\n",
    "\n",
    "print('\\033[1m'+'ICC ODI WOMENS BOWLING RANKING'+'\\033[0m') # Print Title in bold case\n",
    "ODI_Bowling"
   ]
  },
  {
   "cell_type": "code",
   "execution_count": null,
   "id": "9b7f0965",
   "metadata": {},
   "outputs": [],
   "source": []
  },
  {
   "cell_type": "code",
   "execution_count": null,
   "id": "0913d7fe",
   "metadata": {},
   "outputs": [],
   "source": []
  }
 ],
 "metadata": {
  "kernelspec": {
   "display_name": "Python 3 (ipykernel)",
   "language": "python",
   "name": "python3"
  },
  "language_info": {
   "codemirror_mode": {
    "name": "ipython",
    "version": 3
   },
   "file_extension": ".py",
   "mimetype": "text/x-python",
   "name": "python",
   "nbconvert_exporter": "python",
   "pygments_lexer": "ipython3",
   "version": "3.9.12"
  }
 },
 "nbformat": 4,
 "nbformat_minor": 5
}
