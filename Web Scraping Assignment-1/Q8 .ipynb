{
 "cells": [
  {
   "cell_type": "code",
   "execution_count": 9,
   "id": "6bc55aad",
   "metadata": {},
   "outputs": [
    {
     "name": "stdout",
     "output_type": "stream",
     "text": [
      "              Title Authors                                               Link\n",
      "0  Reward is enough      []  https://www.sciencedirect.com/science/article/...\n"
     ]
    }
   ],
   "source": [
    "import requests\n",
    "from bs4 import BeautifulSoup\n",
    "import pandas as pd\n",
    "\n",
    "url = 'https://www.journals.elsevier.com/artificial-intelligence/most-downloaded-articles'\n",
    "response = requests.get(url)\n",
    "\n",
    "soup = BeautifulSoup(response.text, 'html.parser')\n",
    "\n",
    "articles = []\n",
    "for article in soup.find_all('div',class_=\"sc-orwwe2-3 jOMrrY\"):\n",
    "    title = article.find('h2',class_=\"sc-1qrq3sd-1 gRGSUS sc-1nmom32-0 sc-1nmom32-1 btcbYu goSKRg\").text.strip()\n",
    "    authors = [author.text.strip() for author in article.find_all('span',class_=\"text surname\")]\n",
    "    link = article.find('a',href=\"https://www.sciencedirect.com/science/article/pii/S0004370221000862\")['href']\n",
    "    articles.append({'Title': title, 'Authors': authors, 'Link': link})\n",
    "\n",
    "df = pd.DataFrame(articles)\n",
    "print(df)\n"
   ]
  },
  {
   "cell_type": "code",
   "execution_count": null,
   "id": "20716cfb",
   "metadata": {},
   "outputs": [],
   "source": []
  }
 ],
 "metadata": {
  "kernelspec": {
   "display_name": "Python 3 (ipykernel)",
   "language": "python",
   "name": "python3"
  },
  "language_info": {
   "codemirror_mode": {
    "name": "ipython",
    "version": 3
   },
   "file_extension": ".py",
   "mimetype": "text/x-python",
   "name": "python",
   "nbconvert_exporter": "python",
   "pygments_lexer": "ipython3",
   "version": "3.9.12"
  }
 },
 "nbformat": 4,
 "nbformat_minor": 5
}
